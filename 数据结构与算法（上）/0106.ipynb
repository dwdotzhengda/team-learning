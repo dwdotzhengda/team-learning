{
 "cells": [
  {
   "cell_type": "markdown",
   "metadata": {},
   "source": [
    "# 练习部分"
   ]
  },
  {
   "cell_type": "raw",
   "metadata": {},
   "source": [
    "1. 利用动态数组解决数据存放问题\n",
    "\n",
    "编写一段代码，要求输入一个整数N，用动态数组A来存放2~N之间所有5或7的倍数，输出该数组。"
   ]
  },
  {
   "cell_type": "code",
   "execution_count": 10,
   "metadata": {},
   "outputs": [
    {
     "name": "stdout",
     "output_type": "stream",
     "text": [
      "输入：\n",
      "N = \n",
      "100\n",
      "\n",
      "\n",
      "输出：\n",
      "5 7 10 14 15 20 21 25 28 30 35 40 42 45 49 50 55 56 60 63 65 70 75 77 80 84 85 90 91 95 98\n"
     ]
    }
   ],
   "source": [
    "print(\"输入：\")\n",
    "print(\"N = \")\n",
    "n = int(input())\n",
    "print(\"\\n\")\n",
    "result = []\n",
    "for i in range(4,n):\n",
    "    if i%5==0 or i%7==0:\n",
    "        result.append(str(i))\n",
    "print(\"输出：\")\n",
    "print(' '.join(result))"
   ]
  },
  {
   "cell_type": "raw",
   "metadata": {},
   "source": [
    "2. 托普利茨矩阵问题\n",
    "\n",
    "如果一个矩阵的每一方向由左上到右下的对角线上具有相同元素，那么这个矩阵是托普利茨矩阵。\n",
    "\n",
    "给定一个M x N的矩阵，当且仅当它是托普利茨矩阵时返回True。"
   ]
  },
  {
   "cell_type": "code",
   "execution_count": 18,
   "metadata": {},
   "outputs": [
    {
     "name": "stdout",
     "output_type": "stream",
     "text": [
      "输入：\n",
      "[   [1,2,3,4],   [5,1,2,3],   [9,5,1,2] ]\n",
      "输出：\n",
      "True\n"
     ]
    }
   ],
   "source": [
    "def isToeplitzMatrix(matrix):\n",
    "        m = len(matrix)\n",
    "        n = len(matrix[0])\n",
    "        for i in range(1,m):\n",
    "            for j in range(1,n):\n",
    "                if matrix[i][j] != matrix[i-1][j-1]:\n",
    "                    return False \n",
    "        return True\n",
    "print(\"输入：\")\n",
    "matrix = input()\n",
    "print(\"输出：\")\n",
    "print(isToeplitzMatrix(matrix))"
   ]
  },
  {
   "cell_type": "raw",
   "metadata": {},
   "source": []
  },
  {
   "cell_type": "raw",
   "metadata": {},
   "source": [
    "3. 三数之和\n",
    "\n",
    "https://leetcode-cn.com/problems/3sum/\n",
    "\n",
    "给定一个包含 n 个整数的数组nums，判断nums中是否存在三个元素a，b，c，使得a + b + c = 0？找出所有满足条件且不重复的三元组。\n",
    "\n",
    "注意：答案中不可以包含重复的三元组。"
   ]
  },
  {
   "cell_type": "code",
   "execution_count": 20,
   "metadata": {},
   "outputs": [
    {
     "name": "stdout",
     "output_type": "stream",
     "text": [
      "[[-1, -1, 2], [-1, 0, 1]]\n"
     ]
    }
   ],
   "source": [
    "def threeSum(nums):\n",
    "\n",
    "    n=len(nums)\n",
    "    if n<3:\n",
    "        return []\n",
    "    nums.sort()\n",
    "    result=[]\n",
    "    for i in range(n):\n",
    "        if nums[i]>0:\n",
    "            return result\n",
    "        if i>0 and nums[i]==nums[i-1]:\n",
    "            continue\n",
    "        L=i+1\n",
    "        R=n-1\n",
    "        while L<R:\n",
    "            if nums[i]+nums[L]+nums[R]==0:\n",
    "                result.append([nums[i],nums[L],nums[R]])\n",
    "                while L<R and nums[L]==nums[L+1]:\n",
    "                    L=L+1\n",
    "                while L<R and nums[R]==nums[R-1]:\n",
    "                    R=R-1\n",
    "                L=L+1\n",
    "                R=R-1\n",
    "            elif nums[i]+nums[L]+nums[R]>0:\n",
    "                R=R-1\n",
    "            else:\n",
    "                L=L+1\n",
    "    return result\n",
    "nums = [-1, 0, 1, 2, -1, -4]\n",
    "print(threeSum(nums))"
   ]
  },
  {
   "cell_type": "raw",
   "metadata": {},
   "source": []
  },
  {
   "cell_type": "code",
   "execution_count": null,
   "metadata": {},
   "outputs": [],
   "source": []
  }
 ],
 "metadata": {
  "kernelspec": {
   "display_name": "Python 3",
   "language": "python",
   "name": "python3"
  },
  "language_info": {
   "codemirror_mode": {
    "name": "ipython",
    "version": 3
   },
   "file_extension": ".py",
   "mimetype": "text/x-python",
   "name": "python",
   "nbconvert_exporter": "python",
   "pygments_lexer": "ipython3",
   "version": "3.6.5"
  }
 },
 "nbformat": 4,
 "nbformat_minor": 2
}
